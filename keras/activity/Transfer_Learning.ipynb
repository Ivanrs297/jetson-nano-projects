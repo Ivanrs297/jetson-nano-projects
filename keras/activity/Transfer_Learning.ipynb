{
  "cells": [
    {
      "cell_type": "code",
      "execution_count": null,
      "metadata": {
        "colab": {
          "base_uri": "https://localhost:8080/"
        },
        "id": "CRSWjEXM46PV",
        "outputId": "91278ffe-4f0e-45be-ee3c-f8a5843db9c6"
      },
      "outputs": [],
      "source": [
        "import tensorflow as tf\n",
        "from tensorflow import keras\n",
        "from tensorflow.keras.datasets import cifar10\n",
        "\n",
        "print(tf.__version__)\n",
        "print(\"Num GPUs Available: \", len(tf.config.experimental.list_physical_devices('GPU')))\n"
      ]
    },
    {
      "cell_type": "markdown",
      "metadata": {
        "id": "_quQzFUO46PW"
      },
      "source": [
        "# Load CIFAR10"
      ]
    },
    {
      "cell_type": "code",
      "execution_count": null,
      "metadata": {
        "colab": {
          "base_uri": "https://localhost:8080/"
        },
        "id": "RLFWh0vv46PX",
        "outputId": "f74f4225-6995-411f-90d1-4ebe1e4a2c25"
      },
      "outputs": [],
      "source": [
        "(X_train, y_train), (X_test, y_test) = cifar10.load_data()\n",
        "print(X_train.shape, y_train.shape)"
      ]
    },
    {
      "cell_type": "code",
      "execution_count": null,
      "metadata": {
        "colab": {
          "base_uri": "https://localhost:8080/",
          "height": 432
        },
        "id": "Fvdo7P2b86U6",
        "outputId": "79a4bec7-3147-4316-fa21-08397be31a0d"
      },
      "outputs": [],
      "source": [
        "from matplotlib import pyplot\n",
        "import numpy as np\n",
        "\n",
        "# create a grid of 3x3 images\n",
        "for i in range(0, 9):\n",
        "\tpyplot.subplot(330 + 1 + i)\n",
        "\tpyplot.imshow(X_train[i], cmap=pyplot.get_cmap('gray'))\n",
        "pyplot.show()"
      ]
    },
    {
      "cell_type": "markdown",
      "metadata": {
        "id": "FViy3-Zc46PY"
      },
      "source": [
        "## Preprocessing"
      ]
    },
    {
      "cell_type": "code",
      "execution_count": null,
      "metadata": {
        "id": "8CCKFFA846PY"
      },
      "outputs": [],
      "source": [
        "# Adequate your image to the format the model requires\n",
        "X_train = keras.applications.resnet50.preprocess_input(X_train)\n",
        "X_test = keras.applications.resnet50.preprocess_input(X_test)\n",
        "\n",
        "# One-hot\n",
        "y_train = keras.utils.to_categorical(y_train, 10)\n",
        "y_test = keras.utils.to_categorical(y_test, 10)"
      ]
    },
    {
      "cell_type": "markdown",
      "metadata": {
        "id": "v6YR8i6P46PZ"
      },
      "source": [
        "# Model with trained weights\n",
        "Imagenet and ResNet50\n",
        "\n",
        "https://keras.io/api/applications/"
      ]
    },
    {
      "cell_type": "code",
      "execution_count": null,
      "metadata": {
        "colab": {
          "base_uri": "https://localhost:8080/"
        },
        "id": "xPrdMgs_46PZ",
        "outputId": "faf7d482-1ed8-4419-975d-7c0f1367c3f0"
      },
      "outputs": [],
      "source": [
        "# code here"
      ]
    },
    {
      "cell_type": "markdown",
      "metadata": {
        "id": "YLzEZU-246Pa"
      },
      "source": [
        "# Approaches in Transfer Learning\n",
        "- Feature Extraction\n",
        "- Fine tuning"
      ]
    },
    {
      "cell_type": "code",
      "execution_count": null,
      "metadata": {
        "id": "9GPj2cbx46Pa"
      },
      "outputs": [],
      "source": [
        "# res_model.layers"
      ]
    },
    {
      "cell_type": "markdown",
      "metadata": {
        "id": "F2JIGhO546Pb"
      },
      "source": [
        "Freeze all layers except for tha last block of ResNet50.\n",
        "\n",
        "This ensures that the model does not learn the weights again, saving us a lot of time and space complexity."
      ]
    },
    {
      "cell_type": "code",
      "execution_count": null,
      "metadata": {
        "id": "0PlucXUS46Pc"
      },
      "outputs": [],
      "source": [
        "# code here"
      ]
    },
    {
      "cell_type": "code",
      "execution_count": null,
      "metadata": {
        "colab": {
          "base_uri": "https://localhost:8080/"
        },
        "id": "hd9gumTg46Pc",
        "outputId": "9df0fa55-7325-4dd8-a3c7-dcea825e6dc0"
      },
      "outputs": [],
      "source": [
        "for i, layer in enumerate(res_model.layers[140:]):\n",
        "    print(i+140, layer.name, \" - \", layer.trainable)"
      ]
    },
    {
      "cell_type": "markdown",
      "metadata": {
        "id": "5MyC4oMs46Pd"
      },
      "source": [
        "# Create a model and connect to the pretrained model"
      ]
    },
    {
      "cell_type": "code",
      "execution_count": null,
      "metadata": {
        "id": "MAjkXJgL46Pd"
      },
      "outputs": [],
      "source": [
        "# simple model here"
      ]
    },
    {
      "cell_type": "code",
      "execution_count": null,
      "metadata": {
        "id": "9hmCJkMe46Pd"
      },
      "outputs": [],
      "source": [
        "# complex model here"
      ]
    },
    {
      "cell_type": "markdown",
      "metadata": {
        "id": "48ZtJYG746Pe"
      },
      "source": [
        "### Callbacks:\n",
        "we can use callbacks in our model to perform certain actions in the training such as weight saving."
      ]
    },
    {
      "cell_type": "code",
      "execution_count": null,
      "metadata": {
        "id": "2icrptgb46Pe"
      },
      "outputs": [],
      "source": [
        "check_point = keras.callbacks.ModelCheckpoint(\n",
        "    filepath=\"cifar10.h5\",\n",
        "    monitor=\"val_accuracy\",\n",
        "    mode=\"max\",\n",
        "    save_best_only=True,\n",
        ")"
      ]
    },
    {
      "cell_type": "markdown",
      "metadata": {
        "id": "4wUfGFjk46Pe"
      },
      "source": [
        "### Model Compilation"
      ]
    },
    {
      "cell_type": "code",
      "execution_count": null,
      "metadata": {
        "id": "hXPY9xDN46Pe"
      },
      "outputs": [],
      "source": [
        "model.compile(\n",
        "    loss='categorical_crossentropy',\n",
        "    optimizer = keras.optimizers.Adam(),\n",
        "    metrics=['accuracy']\n",
        ")"
      ]
    },
    {
      "cell_type": "code",
      "execution_count": null,
      "metadata": {
        "id": "G1wE0GQ-46Pf"
      },
      "outputs": [],
      "source": [
        "# model.summary()"
      ]
    },
    {
      "cell_type": "markdown",
      "metadata": {
        "id": "5DjzmSRW46Pf"
      },
      "source": [
        "### Train model"
      ]
    },
    {
      "cell_type": "code",
      "execution_count": null,
      "metadata": {
        "colab": {
          "base_uri": "https://localhost:8080/"
        },
        "id": "rViP9ATs46Pf",
        "outputId": "26a1f620-b1f3-4b82-b526-dae9dc130ad3"
      },
      "outputs": [],
      "source": [
        "history = model.fit(\n",
        "    X_train, y_train, batch_size = 32, epochs = 5, verbose=1,\n",
        "    validation_data=(X_test, y_test),\n",
        "    callbacks=[check_point]\n",
        ")"
      ]
    },
    {
      "cell_type": "code",
      "execution_count": null,
      "metadata": {
        "colab": {
          "base_uri": "https://localhost:8080/",
          "height": 368
        },
        "id": "A_9zMiDC46Pf",
        "outputId": "d26ca841-5076-4a42-88fb-b34407b1e044"
      },
      "outputs": [],
      "source": [
        "import matplotlib.pyplot as plt\n",
        "\n",
        "def plot_history(history):\n",
        "\n",
        "    plt.figure(figsize=(10, 5))\n",
        "\n",
        "    plt.subplot(121)\n",
        "    plt.plot(history.history['accuracy'])\n",
        "    plt.plot(history.history['val_accuracy'])\n",
        "    plt.title('Model accuracy')\n",
        "    plt.ylabel('accuracy')\n",
        "    plt.xlabel('epoch')\n",
        "    plt.legend(['Train', 'Validation'], loc='upper left')\n",
        "\n",
        "    plt.subplot(122)\n",
        "    plt.plot(history.history['loss'])\n",
        "    plt.plot(history.history['val_loss'])\n",
        "    plt.title('Model Loss')\n",
        "    plt.ylabel('Loss')\n",
        "    plt.xlabel('Epoch')\n",
        "    plt.legend(['Train', 'Validation'], loc='upper left')\n",
        "\n",
        "    plt.show()\n",
        "\n",
        "print(history.history.keys())\n",
        "plot_history(history)"
      ]
    },
    {
      "cell_type": "markdown",
      "metadata": {
        "id": "HKta-goG9DjZ"
      },
      "source": [
        "# Conclusion\n",
        "\n",
        "- We can see ResNet50 works best with input images of 224x224.\n",
        "- When using freezing on the pretrained model continues it reduces computation time, **reduces overffiting but lowers accuracy**. \n",
        "- When the new dataset is very different from the datased used for training it may be necessary to use more layer for adjustment (fine-tunning)\n"
      ]
    },
    {
      "cell_type": "code",
      "execution_count": null,
      "metadata": {
        "id": "xha0X0Wm9wRz"
      },
      "outputs": [],
      "source": []
    }
  ],
  "metadata": {
    "accelerator": "GPU",
    "colab": {
      "collapsed_sections": [],
      "name": "ResNet_Transfer_Learning.ipynb",
      "provenance": []
    },
    "gpuClass": "standard",
    "kernelspec": {
      "display_name": "Python 3.8.12 ('PhD')",
      "language": "python",
      "name": "python3"
    },
    "language_info": {
      "codemirror_mode": {
        "name": "ipython",
        "version": 3
      },
      "file_extension": ".py",
      "mimetype": "text/x-python",
      "name": "python",
      "nbconvert_exporter": "python",
      "pygments_lexer": "ipython3",
      "version": "3.8.12"
    },
    "orig_nbformat": 4,
    "vscode": {
      "interpreter": {
        "hash": "e17d129d6f27db8b87f58b5fa141e866dbba91479774a0f83bbb21f59b590d58"
      }
    }
  },
  "nbformat": 4,
  "nbformat_minor": 0
}
