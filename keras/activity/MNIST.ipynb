{
  "cells": [
    {
      "cell_type": "markdown",
      "metadata": {
        "id": "kBX-rbwPa75s"
      },
      "source": [
        "# MNIST MLP & CNN"
      ]
    },
    {
      "cell_type": "markdown",
      "metadata": {
        "id": "oxmLMKr6a75z"
      },
      "source": [
        "[![Open In Colab](https://colab.research.google.com/assets/colab-badge.svg)](https://colab.research.google.com/github/Ivanrs297/jetson-nano-projects/blob/main/keras/activity/MNIST.ipynb)"
      ]
    },
    {
      "cell_type": "code",
      "execution_count": null,
      "metadata": {
        "colab": {
          "base_uri": "https://localhost:8080/"
        },
        "id": "f9vAiGqPa750",
        "outputId": "f02ddfb9-05bd-4c15-e2a4-4ed79be2242e"
      },
      "outputs": [],
      "source": [
        "import tensorflow as tf\n",
        "from tensorflow import keras\n",
        "from tensorflow.python.client import device_lib\n",
        "\n",
        "print(device_lib.list_local_devices())\n",
        "print(tf.__version__)\n",
        "print(\"Num GPUs Available: \", len(tf.config.experimental.list_physical_devices('GPU')))"
      ]
    },
    {
      "cell_type": "markdown",
      "metadata": {
        "id": "61PTVqLua750"
      },
      "source": [
        "# Preprocessing\n",
        "- One-hot labels\n",
        "- Reshape and normalize data"
      ]
    },
    {
      "cell_type": "code",
      "execution_count": null,
      "metadata": {
        "colab": {
          "base_uri": "https://localhost:8080/"
        },
        "id": "YeBTK2a2a751",
        "outputId": "9c26b5fc-0c02-4fdc-e447-9abe185b0186"
      },
      "outputs": [],
      "source": [
        "from keras.datasets import mnist\n",
        "from tensorflow.keras.utils import to_categorical\n",
        "\n",
        "# Load Data\n"
      ]
    },
    {
      "cell_type": "code",
      "execution_count": null,
      "metadata": {
        "colab": {
          "base_uri": "https://localhost:8080/",
          "height": 268
        },
        "id": "6thqQWYsa751",
        "outputId": "0b62ffd0-bd6b-4c0a-830a-03181af4625d"
      },
      "outputs": [],
      "source": [
        "from matplotlib import pyplot\n",
        "import numpy as np\n",
        "\n",
        "# create a grid of 3x3 images\n",
        "for i in range(0, 9):\n",
        "\tpyplot.subplot(330 + 1 + i)\n",
        "\tpyplot.imshow(X_train[i], cmap=pyplot.get_cmap('gray'))\n",
        "pyplot.show()"
      ]
    },
    {
      "cell_type": "code",
      "execution_count": null,
      "metadata": {
        "id": "0TmSpjEGa751"
      },
      "outputs": [],
      "source": [
        "# compute the number of labels\n",
        "\n",
        "# convert to one-hot vector\n",
        "\n",
        "\n",
        "# image dimensions (assumed square)\n",
        "\n",
        "\n",
        "# resize and normalize\n"
      ]
    },
    {
      "cell_type": "code",
      "execution_count": null,
      "metadata": {
        "colab": {
          "base_uri": "https://localhost:8080/"
        },
        "id": "4i09j1j6a752",
        "outputId": "4a2c5bc4-9b19-4c0f-f9de-67d50840db81"
      },
      "outputs": [],
      "source": [
        "X_train.shape, X_test.shape, y_train.shape, y_test.shape"
      ]
    },
    {
      "cell_type": "markdown",
      "metadata": {
        "id": "dxwly-Aua752"
      },
      "source": [
        "# MLP Model"
      ]
    },
    {
      "cell_type": "markdown",
      "metadata": {
        "id": "u1E33WeEa752"
      },
      "source": [
        "## Hyperparameters"
      ]
    },
    {
      "cell_type": "code",
      "execution_count": null,
      "metadata": {
        "id": "qqpuMcs6a753"
      },
      "outputs": [],
      "source": [
        "batch_size = None\n",
        "hidden_units = None\n",
        "dropout = None"
      ]
    },
    {
      "cell_type": "code",
      "execution_count": null,
      "metadata": {
        "colab": {
          "base_uri": "https://localhost:8080/"
        },
        "id": "eMo1E_LVa753",
        "outputId": "e8320604-54ee-4d9f-e39a-5fa135b752d8"
      },
      "outputs": [],
      "source": [
        "import numpy as np\n",
        "from tensorflow.keras.models import Sequential\n",
        "from tensorflow.keras.layers import Dense, Activation, Flatten, Dropout\n",
        "\n",
        "# Model here\n",
        "\n",
        "\n",
        "model.summary()"
      ]
    },
    {
      "cell_type": "code",
      "execution_count": null,
      "metadata": {
        "id": "w-v7-FEJa753"
      },
      "outputs": [],
      "source": [
        "model.compile(\n",
        "    loss='categorical_crossentropy',\n",
        "    optimizer='adam',\n",
        "    metrics=['accuracy']\n",
        ")"
      ]
    },
    {
      "cell_type": "code",
      "execution_count": null,
      "metadata": {
        "colab": {
          "base_uri": "https://localhost:8080/"
        },
        "id": "6P1yX4t9a754",
        "outputId": "87812a65-360d-4e46-d36a-cc930de5c4a9"
      },
      "outputs": [],
      "source": [
        "history = model.fit(\n",
        "    \n",
        ")"
      ]
    },
    {
      "cell_type": "code",
      "execution_count": null,
      "metadata": {
        "colab": {
          "base_uri": "https://localhost:8080/",
          "height": 367
        },
        "id": "AWx7ICZVa754",
        "outputId": "b83b086e-4e32-4ef0-a772-690522e280ea"
      },
      "outputs": [],
      "source": [
        "import matplotlib.pyplot as plt\n",
        "\n",
        "def plot_history(history):\n",
        "\n",
        "    plt.figure(figsize=(10, 5))\n",
        "\n",
        "    # summarize history for mean_squared_error\n",
        "    plt.subplot(121)\n",
        "    plt.plot(history.history['accuracy'])\n",
        "    plt.plot(history.history['val_accuracy'])\n",
        "    plt.title('Model accuracy')\n",
        "    plt.ylabel('accuracy')\n",
        "    plt.xlabel('epoch')\n",
        "    plt.legend(['Train', 'Validation'], loc='upper left')\n",
        "\n",
        "    # summarize history for loss\n",
        "    plt.subplot(122)\n",
        "    plt.plot(history.history['loss'])\n",
        "    plt.plot(history.history['val_loss'])\n",
        "    plt.title('Model Loss')\n",
        "    plt.ylabel('Loss')\n",
        "    plt.xlabel('Epoch')\n",
        "    plt.legend(['Train', 'Validation'], loc='upper left')\n",
        "\n",
        "    plt.show()\n",
        "\n",
        "print(history.history.keys())\n",
        "plot_history(history)"
      ]
    },
    {
      "cell_type": "markdown",
      "metadata": {
        "id": "z5Yootkna755"
      },
      "source": [
        "## Model Evaluation"
      ]
    },
    {
      "cell_type": "code",
      "execution_count": null,
      "metadata": {
        "colab": {
          "base_uri": "https://localhost:8080/"
        },
        "id": "FL_8xBAka755",
        "outputId": "5f751ea3-a503-4850-850d-6d25a11ac8e7"
      },
      "outputs": [],
      "source": [
        "_, acc = model.evaluate(\n",
        "\n",
        ")\n",
        "print(\"\\nTest accuracy: %.1f%%\" % (100.0 * acc))"
      ]
    },
    {
      "cell_type": "markdown",
      "metadata": {
        "id": "33pm7OL0a755"
      },
      "source": [
        "## Save Model"
      ]
    },
    {
      "cell_type": "code",
      "execution_count": null,
      "metadata": {
        "id": "mOxeiMwPa756"
      },
      "outputs": [],
      "source": [
        "model.save('MLP_MNIST.h5')"
      ]
    },
    {
      "cell_type": "markdown",
      "metadata": {
        "id": "pKLm2Tpga756"
      },
      "source": [
        "## Load Model"
      ]
    },
    {
      "cell_type": "code",
      "execution_count": null,
      "metadata": {
        "colab": {
          "base_uri": "https://localhost:8080/"
        },
        "id": "du1ZSWQxa756",
        "outputId": "60144de8-a217-4da2-d9aa-3ceeb823d695"
      },
      "outputs": [],
      "source": [
        "reconstructed_model = tf.keras.models.load_model(\"MLP_MNIST.h5\")\n",
        "_, acc = reconstructed_model.evaluate(X_test, y_test)\n",
        "print(\"\\nTest accuracy: %.1f%%\" % (100.0 * acc))"
      ]
    },
    {
      "cell_type": "markdown",
      "metadata": {
        "id": "OWtn9gtTa756"
      },
      "source": [
        "# CNN Model"
      ]
    },
    {
      "cell_type": "code",
      "execution_count": null,
      "metadata": {
        "id": "krQE5cNya757"
      },
      "outputs": [],
      "source": [
        "(X_train, y_train), (X_test, y_test) = mnist.load_data()\n",
        "num_labels = len(np.unique(y_train))\n",
        "y_train = to_categorical(y_train)\n",
        "y_test = to_categorical(y_test)\n",
        "\n",
        "# image dimensions (assumed square)\n",
        "image_size = X_train.shape[1]\n",
        "input_size = image_size * image_size\n",
        "img_channels = 1\n",
        "\n",
        "# resize and normalize\n",
        "X_train = np.reshape(X_train, [-1, image_size, image_size, img_channels])\n",
        "X_train = X_train.astype('float32') / 255\n",
        "X_test = np.reshape(X_test, [-1, image_size, image_size, img_channels])\n",
        "X_test = X_test.astype('float32') / 255\n"
      ]
    },
    {
      "cell_type": "code",
      "execution_count": null,
      "metadata": {
        "colab": {
          "base_uri": "https://localhost:8080/"
        },
        "id": "_pbLdwvca757",
        "outputId": "5a07f9bf-9a53-4dce-e81a-8367000dc37f"
      },
      "outputs": [],
      "source": [
        "X_train.shape, X_test.shape, y_train.shape, y_test.shape"
      ]
    },
    {
      "cell_type": "markdown",
      "metadata": {
        "id": "xfaYDorla758"
      },
      "source": [
        "## Model"
      ]
    },
    {
      "cell_type": "code",
      "execution_count": null,
      "metadata": {
        "colab": {
          "base_uri": "https://localhost:8080/"
        },
        "id": "luSV-nMna758",
        "outputId": "5a3e67e1-9857-4d53-d65e-4ef36f63c50d"
      },
      "outputs": [],
      "source": [
        "from keras.layers.convolutional import Conv2D, MaxPooling2D\n",
        "\n",
        "num_labels = 10\n",
        "input_size = 28 * 28\n",
        "\n",
        "# Model here\n",
        "\n",
        "model.summary()\n"
      ]
    },
    {
      "cell_type": "code",
      "execution_count": null,
      "metadata": {
        "colab": {
          "base_uri": "https://localhost:8080/"
        },
        "id": "N7sNIs0oa759",
        "outputId": "604ec8d1-98b7-4e45-cc19-3a9cad0ac5a4"
      },
      "outputs": [],
      "source": [
        "model.compile(loss='categorical_crossentropy',\n",
        "              optimizer='adam',\n",
        "              metrics=['accuracy'])\n",
        "\n",
        "history = model.fit(\n",
        "    x = X_train,\n",
        "    y = y_train,\n",
        "    validation_split = .1,\n",
        "    epochs = 10,\n",
        "    verbose = True\n",
        ")"
      ]
    },
    {
      "cell_type": "code",
      "execution_count": null,
      "metadata": {
        "colab": {
          "base_uri": "https://localhost:8080/",
          "height": 350
        },
        "id": "nVC0fUL1bwwR",
        "outputId": "3c935b91-34b9-4644-95de-b7bd36115484"
      },
      "outputs": [],
      "source": [
        "plot_history(history)"
      ]
    },
    {
      "cell_type": "code",
      "execution_count": null,
      "metadata": {
        "colab": {
          "base_uri": "https://localhost:8080/"
        },
        "id": "3koyel-Ga759",
        "outputId": "efb951c8-921c-4ea9-db49-2eaa7a02a0d1"
      },
      "outputs": [],
      "source": [
        "_, acc = model.evaluate(\n",
        "    X_test,\n",
        "    y_test,\n",
        "    batch_size=batch_size,\n",
        "    verbose=0\n",
        ")\n",
        "\n",
        "print(\"\\nTest accuracy: %.1f%%\" % (100.0 * acc))"
      ]
    },
    {
      "cell_type": "markdown",
      "metadata": {
        "id": "oO4EUxSpa757"
      },
      "source": [
        "# Data Augmentation"
      ]
    },
    {
      "cell_type": "code",
      "execution_count": null,
      "metadata": {
        "colab": {
          "base_uri": "https://localhost:8080/",
          "height": 268
        },
        "id": "CLYEq2Z8a758",
        "outputId": "6e3080b0-f45e-4a4a-f497-56cb47d5a0e6"
      },
      "outputs": [],
      "source": [
        "from keras.preprocessing.image import ImageDataGenerator\n",
        "\n",
        "datagen = ImageDataGenerator(\n",
        "\t# featurewise_center=True, \n",
        "\t# featurewise_std_normalization=True,\n",
        "\t# rotation_range=10,\n",
        "\t# horizontal_flip=False,\n",
        "\t# validation_split = 0.1\n",
        "\t# vertical_flip=True\n",
        ")\n",
        "\n",
        "# fit parameters from data\n",
        "datagen.fit(X_train)\n",
        "\n",
        "# configure batch size and retrieve one batch of images\n",
        "for X_batch, y_batch in datagen.flow(X_train, y_train, batch_size=9):\n",
        "\t# create a grid of 3x3 images\n",
        "\tfor i in range(0, 9):\n",
        "\t\tpyplot.subplot(330 + 1 + i)\n",
        "\t\tpyplot.imshow(X_batch[i].reshape(28, 28), cmap=pyplot.get_cmap('gray'))\n",
        "\t# show the plot\n",
        "\tpyplot.show()\n",
        "\tbreak"
      ]
    },
    {
      "cell_type": "code",
      "execution_count": null,
      "metadata": {
        "id": "TFUOkRe0a758"
      },
      "outputs": [],
      "source": [
        "datagen.fit(X_train)\n",
        "# Generators here\n",
        "\n"
      ]
    },
    {
      "cell_type": "code",
      "execution_count": null,
      "metadata": {
        "colab": {
          "base_uri": "https://localhost:8080/"
        },
        "id": "uCsdSUCsj_Ze",
        "outputId": "6773f5e3-306f-41c9-91d0-10a772b612a4"
      },
      "outputs": [],
      "source": [
        "model = Sequential(name = \"CNN_DA\")\n",
        "model.add(Conv2D(32, kernel_size=3, input_shape=(28, 28, 1), activation = 'relu'))\n",
        "model.add(MaxPooling2D(pool_size=(2, 2)))\n",
        "model.add(Conv2D(64, kernel_size=3, activation = 'relu'))\n",
        "model.add(MaxPooling2D(pool_size=(2, 2)))\n",
        "model.add(Flatten())\n",
        "model.add(Dropout(0.5))\n",
        "model.add(Dense(num_labels, activation = \"softmax\"))\n",
        "model.summary()"
      ]
    },
    {
      "cell_type": "code",
      "execution_count": null,
      "metadata": {
        "colab": {
          "base_uri": "https://localhost:8080/"
        },
        "id": "wtW9ad1pkEN6",
        "outputId": "52e2be13-c161-428d-b36a-f21c8a9b3256"
      },
      "outputs": [],
      "source": [
        "model.compile(loss='categorical_crossentropy',\n",
        "              optimizer='adam',\n",
        "              metrics=['accuracy'])\n",
        "\n",
        "history = model.fit(\n",
        "    train_generator,\n",
        "    epochs = 10,\n",
        "    verbose = True,\n",
        "    validation_data = validation_generator\n",
        ")"
      ]
    },
    {
      "cell_type": "code",
      "execution_count": null,
      "metadata": {
        "colab": {
          "base_uri": "https://localhost:8080/",
          "height": 350
        },
        "id": "JiDZPTyGlHkS",
        "outputId": "dc2eb6b5-aea2-46ef-99c6-bb89d0d79aaa"
      },
      "outputs": [],
      "source": [
        "plot_history(history)"
      ]
    },
    {
      "cell_type": "code",
      "execution_count": null,
      "metadata": {
        "colab": {
          "base_uri": "https://localhost:8080/"
        },
        "id": "M-BdRQhglLEB",
        "outputId": "59b4d7aa-af15-4eb6-b482-127b8858f738"
      },
      "outputs": [],
      "source": [
        "_, acc = model.evaluate(\n",
        "    X_test,\n",
        "    y_test,\n",
        "    batch_size=batch_size,\n",
        "    verbose=0\n",
        ")\n",
        "\n",
        "print(\"\\nTest accuracy: %.1f%%\" % (100.0 * acc))"
      ]
    },
    {
      "cell_type": "markdown",
      "metadata": {
        "id": "YXypY_P1a759"
      },
      "source": [
        "# Serializing Model"
      ]
    },
    {
      "cell_type": "code",
      "execution_count": null,
      "metadata": {
        "id": "sfd2t4-ga75-"
      },
      "outputs": [],
      "source": [
        "model.save('CNN_MNIST.h5')"
      ]
    },
    {
      "cell_type": "markdown",
      "metadata": {
        "id": "KqKQZYUWa75-"
      },
      "source": [
        "## Load Model"
      ]
    },
    {
      "cell_type": "code",
      "execution_count": null,
      "metadata": {
        "id": "77KeXbI2a75-"
      },
      "outputs": [],
      "source": [
        "# code here"
      ]
    },
    {
      "cell_type": "code",
      "execution_count": null,
      "metadata": {
        "colab": {
          "base_uri": "https://localhost:8080/"
        },
        "id": "NQEkVjeqa75-",
        "outputId": "cb804955-b95c-4f0b-e4e5-2e7df9a2ab9b"
      },
      "outputs": [],
      "source": [
        "reconstructed_model.evaluate(X_test, y_test)"
      ]
    }
  ],
  "metadata": {
    "accelerator": "GPU",
    "colab": {
      "collapsed_sections": [],
      "name": "Dense_MNIST.ipynb",
      "provenance": []
    },
    "gpuClass": "standard",
    "kernelspec": {
      "display_name": "Python 3.8.12 ('PhD')",
      "language": "python",
      "name": "python3"
    },
    "language_info": {
      "codemirror_mode": {
        "name": "ipython",
        "version": 3
      },
      "file_extension": ".py",
      "mimetype": "text/x-python",
      "name": "python",
      "nbconvert_exporter": "python",
      "pygments_lexer": "ipython3",
      "version": "3.8.12"
    },
    "orig_nbformat": 4,
    "vscode": {
      "interpreter": {
        "hash": "e17d129d6f27db8b87f58b5fa141e866dbba91479774a0f83bbb21f59b590d58"
      }
    }
  },
  "nbformat": 4,
  "nbformat_minor": 0
}
