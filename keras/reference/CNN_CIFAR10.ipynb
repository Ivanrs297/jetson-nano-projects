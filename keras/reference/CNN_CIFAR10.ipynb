{
  "nbformat": 4,
  "nbformat_minor": 0,
  "metadata": {
    "colab": {
      "name": "CNN_Object_Identification.ipynb",
      "provenance": [],
      "collapsed_sections": []
    },
    "kernelspec": {
      "name": "python3",
      "display_name": "Python 3"
    },
    "language_info": {
      "name": "python"
    },
    "accelerator": "GPU"
  },
  "cells": [
    {
      "cell_type": "markdown",
      "metadata": {
        "id": "iiD-ekp9SQEt"
      },
      "source": [
        "# Convolutional Neural Network (CNN)\n",
        "\n",
        "In this notebook, we will classify small images cifar10 dataset from tensorflow keras datasets. There are total 10 classes.\n",
        "\n",
        "https://www.cs.toronto.edu/~kriz/cifar.html\n"
      ]
    },
    {
      "cell_type": "code",
      "metadata": {
        "id": "0YQcl9ftSiaE"
      },
      "source": [
        "import tensorflow as tf\n",
        "from tensorflow.keras import datasets, layers, models\n",
        "import matplotlib.pyplot as plt\n",
        "import numpy as np"
      ],
      "execution_count": null,
      "outputs": []
    },
    {
      "cell_type": "markdown",
      "metadata": {
        "id": "emvDjm-qSnAI"
      },
      "source": [
        "Load Dataset"
      ]
    },
    {
      "cell_type": "code",
      "metadata": {
        "colab": {
          "base_uri": "https://localhost:8080/"
        },
        "id": "PmFt3jYNSs41",
        "outputId": "ae4cdd7a-0a73-4cbe-dbab-f89a17d50615"
      },
      "source": [
        "(X_train, y_train), (X_test,y_test) = datasets.cifar10.load_data()\n",
        "X_train.shape"
      ],
      "execution_count": null,
      "outputs": [
        {
          "output_type": "stream",
          "name": "stdout",
          "text": [
            "Downloading data from https://www.cs.toronto.edu/~kriz/cifar-10-python.tar.gz\n",
            "170500096/170498071 [==============================] - 7s 0us/step\n",
            "170508288/170498071 [==============================] - 7s 0us/step\n"
          ]
        },
        {
          "output_type": "execute_result",
          "data": {
            "text/plain": [
              "(50000, 32, 32, 3)"
            ]
          },
          "metadata": {},
          "execution_count": 2
        }
      ]
    },
    {
      "cell_type": "code",
      "metadata": {
        "colab": {
          "base_uri": "https://localhost:8080/"
        },
        "id": "ml3gOwhNSvHp",
        "outputId": "5b395eca-3946-4ec0-aa1c-4d404c82f48c"
      },
      "source": [
        "X_test.shape"
      ],
      "execution_count": null,
      "outputs": [
        {
          "output_type": "execute_result",
          "data": {
            "text/plain": [
              "(10000, 32, 32, 3)"
            ]
          },
          "metadata": {},
          "execution_count": 3
        }
      ]
    },
    {
      "cell_type": "markdown",
      "metadata": {
        "id": "fCZY1sb4Szhh"
      },
      "source": [
        "Here we see there are 50000 training images and 1000 test images\n",
        "\n"
      ]
    },
    {
      "cell_type": "code",
      "metadata": {
        "colab": {
          "base_uri": "https://localhost:8080/"
        },
        "id": "BoLhYyg7S3Vb",
        "outputId": "2ffad899-694f-4701-ca35-823c7aa97fe6"
      },
      "source": [
        "y_train.shape"
      ],
      "execution_count": null,
      "outputs": [
        {
          "output_type": "execute_result",
          "data": {
            "text/plain": [
              "(50000, 1)"
            ]
          },
          "metadata": {},
          "execution_count": 4
        }
      ]
    },
    {
      "cell_type": "code",
      "metadata": {
        "colab": {
          "base_uri": "https://localhost:8080/"
        },
        "id": "8QTYpOcHS3zv",
        "outputId": "e980b24f-e05d-4b3e-bfbe-b4bcef768c7f"
      },
      "source": [
        "# y_train is a 2D array, for our classification having 1D array is good enough. so we will convert this to now 1D array\n",
        "\n",
        "\n",
        "y_train[:5]"
      ],
      "execution_count": null,
      "outputs": [
        {
          "output_type": "execute_result",
          "data": {
            "text/plain": [
              "array([[6],\n",
              "       [9],\n",
              "       [9],\n",
              "       [4],\n",
              "       [1]], dtype=uint8)"
            ]
          },
          "metadata": {},
          "execution_count": 5
        }
      ]
    },
    {
      "cell_type": "code",
      "metadata": {
        "colab": {
          "base_uri": "https://localhost:8080/"
        },
        "id": "BgEsiiVtS67u",
        "outputId": "4fef3e80-0fb6-483c-9c4d-63126a1c9f37"
      },
      "source": [
        "y_train = y_train.reshape(-1,)\n",
        "y_train[:5]"
      ],
      "execution_count": null,
      "outputs": [
        {
          "output_type": "execute_result",
          "data": {
            "text/plain": [
              "array([6, 9, 9, 4, 1], dtype=uint8)"
            ]
          },
          "metadata": {},
          "execution_count": 6
        }
      ]
    },
    {
      "cell_type": "code",
      "metadata": {
        "id": "IWKy6NpjS_Pq"
      },
      "source": [
        "y_test = y_test.reshape(-1,)"
      ],
      "execution_count": null,
      "outputs": []
    },
    {
      "cell_type": "code",
      "metadata": {
        "id": "4eUlPZhdTA84"
      },
      "source": [
        "classes = [\"airplane\",\"automobile\",\"bird\",\"cat\",\"deer\",\"dog\",\"frog\",\"horse\",\"ship\",\"truck\"]"
      ],
      "execution_count": null,
      "outputs": []
    },
    {
      "cell_type": "markdown",
      "metadata": {
        "id": "NqowaG0WTB-W"
      },
      "source": [
        "Let's plot some images to see what they are\n",
        "\n"
      ]
    },
    {
      "cell_type": "code",
      "metadata": {
        "id": "GPkwTKjvTD7M"
      },
      "source": [
        "def plot_sample(X, y, index):\n",
        "    plt.figure(figsize = (15,2))\n",
        "    plt.imshow(X[index])\n",
        "    plt.xlabel(classes[y[index]])"
      ],
      "execution_count": null,
      "outputs": []
    },
    {
      "cell_type": "code",
      "metadata": {
        "colab": {
          "base_uri": "https://localhost:8080/",
          "height": 173
        },
        "id": "0ZXQ1saoTILW",
        "outputId": "6fe675db-e047-4d7d-9b5f-5f4bbcb6b933"
      },
      "source": [
        "plot_sample(X_train, y_train, 0)\n"
      ],
      "execution_count": null,
      "outputs": [
        {
          "output_type": "display_data",
          "data": {
            "image/png": "[encoded data removed]",
            "text/plain": [
              "<Figure size 1080x144 with 1 Axes>"
            ]
          },
          "metadata": {
            "needs_background": "light"
          }
        }
      ]
    },
    {
      "cell_type": "code",
      "metadata": {
        "colab": {
          "base_uri": "https://localhost:8080/",
          "height": 173
        },
        "id": "y_vwFIKLTJD6",
        "outputId": "980a26a9-42f8-4454-83ea-5d38abf4f4db"
      },
      "source": [
        "plot_sample(X_train, y_train, 5)\n"
      ],
      "execution_count": null,
      "outputs": [
        {
          "output_type": "display_data",
          "data": {
            "image/png": "[encoded data removed]",
            "text/plain": [
              "<Figure size 1080x144 with 1 Axes>"
            ]
          },
          "metadata": {
            "needs_background": "light"
          }
        }
      ]
    },
    {
      "cell_type": "markdown",
      "metadata": {
        "id": "0nwxTD5ATKPi"
      },
      "source": [
        "Normalize the images to a number from 0 to 1. Image has 3 channels (R,G,B) and each value in the channel can range from 0 to 255. Hence to normalize in 0-->1 range, we need to divide it by 255\n",
        "\n"
      ]
    },
    {
      "cell_type": "code",
      "metadata": {
        "id": "tkrjwn0xTOaS"
      },
      "source": [
        "X_train = X_train / 255.0\n",
        "X_test = X_test / 255.0"
      ],
      "execution_count": null,
      "outputs": []
    },
    {
      "cell_type": "markdown",
      "metadata": {
        "id": "cOW8ICLwTP8G"
      },
      "source": [
        "## Simple NN"
      ]
    },
    {
      "cell_type": "code",
      "metadata": {
        "colab": {
          "base_uri": "https://localhost:8080/"
        },
        "id": "B8wT6YKTTU2J",
        "outputId": "dcff3438-f1e1-46f6-82e1-4788b35dc721"
      },
      "source": [
        "ann = models.Sequential([\n",
        "        layers.Flatten(input_shape=(32,32,3)),\n",
        "        layers.Dense(3000, activation='relu'),\n",
        "        layers.Dense(1000, activation='relu'),\n",
        "        layers.Dense(10, activation='softmax')    \n",
        "    ])\n",
        "\n",
        "ann.compile(optimizer='SGD',\n",
        "              loss='sparse_categorical_crossentropy',\n",
        "              metrics=['accuracy'])\n",
        "\n",
        "history = ann.fit(X_train, y_train, epochs=5, validation_split=0.2, shuffle=True)"
      ],
      "execution_count": null,
      "outputs": [
        {
          "output_type": "stream",
          "name": "stdout",
          "text": [
            "Epoch 1/5\n",
            "1250/1250 [==============================] - 11s 6ms/step - loss: 1.8386 - accuracy: 0.3424 - val_loss: 1.7215 - val_accuracy: 0.3913\n",
            "Epoch 2/5\n",
            "1250/1250 [==============================] - 8s 6ms/step - loss: 1.6485 - accuracy: 0.4194 - val_loss: 1.6443 - val_accuracy: 0.4272\n",
            "Epoch 3/5\n",
            "1250/1250 [==============================] - 8s 6ms/step - loss: 1.5694 - accuracy: 0.4480 - val_loss: 1.5867 - val_accuracy: 0.4380\n",
            "Epoch 4/5\n",
            "1250/1250 [==============================] - 8s 6ms/step - loss: 1.5091 - accuracy: 0.4685 - val_loss: 1.5940 - val_accuracy: 0.4354\n",
            "Epoch 5/5\n",
            "1250/1250 [==============================] - 8s 6ms/step - loss: 1.4637 - accuracy: 0.4850 - val_loss: 1.5543 - val_accuracy: 0.4539\n"
          ]
        }
      ]
    },
    {
      "cell_type": "code",
      "metadata": {
        "colab": {
          "base_uri": "https://localhost:8080/",
          "height": 295
        },
        "id": "O7BhS7nmTWes",
        "outputId": "a8c7171c-0ee2-4d1f-9d17-ab8924abeb22"
      },
      "source": [
        "plt.plot(history.history['accuracy'])\n",
        "plt.plot(history.history['val_accuracy'])\n",
        "plt.title('model accuracy')\n",
        "plt.ylabel('accuracy')\n",
        "plt.xlabel('epoch')\n",
        "plt.legend(['train', 'val'], loc='upper left')\n",
        "plt.show()"
      ],
      "execution_count": null,
      "outputs": [
        {
          "output_type": "display_data",
          "data": {
            "image/png": "[encoded data removed]",
            "text/plain": [
              "<Figure size 432x288 with 1 Axes>"
            ]
          },
          "metadata": {
            "needs_background": "light"
          }
        }
      ]
    },
    {
      "cell_type": "code",
      "metadata": {
        "colab": {
          "base_uri": "https://localhost:8080/",
          "height": 295
        },
        "id": "WYnsPT1NT7iW",
        "outputId": "a995fb41-b344-48d8-9b70-c5f24ffda2ee"
      },
      "source": [
        "plt.plot(history.history['loss'])\n",
        "plt.plot(history.history['val_loss'])\n",
        "plt.title('model loss')\n",
        "plt.ylabel('loss')\n",
        "plt.xlabel('epoch')\n",
        "plt.legend(['train', 'val'], loc='upper left')\n",
        "plt.show()"
      ],
      "execution_count": null,
      "outputs": [
        {
          "output_type": "display_data",
          "data": {
            "image/png": "[encoded data removed]",
            "text/plain": [
              "<Figure size 432x288 with 1 Axes>"
            ]
          },
          "metadata": {
            "needs_background": "light"
          }
        }
      ]
    },
    {
      "cell_type": "markdown",
      "metadata": {
        "id": "K_xqB9N_UwzY"
      },
      "source": [
        "# CNN"
      ]
    },
    {
      "cell_type": "code",
      "metadata": {
        "id": "FDYJPRvhVAb_"
      },
      "source": [
        "cnn = models.Sequential([\n",
        "    layers.Conv2D(filters=32, kernel_size=(3, 3), activation='relu', input_shape=(32, 32, 3)),\n",
        "    layers.MaxPooling2D((2, 2)),\n",
        "    \n",
        "    layers.Conv2D(filters=64, kernel_size=(3, 3), activation='relu'),\n",
        "    layers.MaxPooling2D((2, 2)),\n",
        "    \n",
        "    layers.Flatten(),\n",
        "    layers.Dense(64, activation='relu'),\n",
        "    layers.Dense(10, activation='softmax')\n",
        "])\n",
        "\n",
        "cnn.compile(optimizer='adam',\n",
        "              loss='sparse_categorical_crossentropy',\n",
        "              metrics=['accuracy'])"
      ],
      "execution_count": null,
      "outputs": []
    },
    {
      "cell_type": "code",
      "metadata": {
        "colab": {
          "base_uri": "https://localhost:8080/"
        },
        "id": "qJvGNSnDVDKg",
        "outputId": "ed041d9a-fb10-4cd0-b1bc-41c033078a18"
      },
      "source": [
        "history = cnn.fit(X_train, y_train, epochs=10, validation_split=0.2, shuffle=True)\n"
      ],
      "execution_count": null,
      "outputs": [
        {
          "output_type": "stream",
          "name": "stdout",
          "text": [
            "Epoch 1/10\n",
            "1250/1250 [==============================] - 36s 8ms/step - loss: 1.5130 - accuracy: 0.4544 - val_loss: 1.2448 - val_accuracy: 0.5609\n",
            "Epoch 2/10\n",
            "1250/1250 [==============================] - 9s 7ms/step - loss: 1.1617 - accuracy: 0.5914 - val_loss: 1.1064 - val_accuracy: 0.6185\n",
            "Epoch 3/10\n",
            "1250/1250 [==============================] - 9s 7ms/step - loss: 1.0279 - accuracy: 0.6427 - val_loss: 1.0473 - val_accuracy: 0.6337\n",
            "Epoch 4/10\n",
            "1250/1250 [==============================] - 9s 7ms/step - loss: 0.9436 - accuracy: 0.6698 - val_loss: 0.9976 - val_accuracy: 0.6570\n",
            "Epoch 5/10\n",
            "1250/1250 [==============================] - 9s 7ms/step - loss: 0.8792 - accuracy: 0.6952 - val_loss: 0.9621 - val_accuracy: 0.6641\n",
            "Epoch 6/10\n",
            "1250/1250 [==============================] - 9s 7ms/step - loss: 0.8248 - accuracy: 0.7146 - val_loss: 0.9651 - val_accuracy: 0.6732\n",
            "Epoch 7/10\n",
            "1250/1250 [==============================] - 9s 7ms/step - loss: 0.7828 - accuracy: 0.7294 - val_loss: 0.9761 - val_accuracy: 0.6656\n",
            "Epoch 8/10\n",
            "1250/1250 [==============================] - 9s 7ms/step - loss: 0.7370 - accuracy: 0.7434 - val_loss: 0.9634 - val_accuracy: 0.6732\n",
            "Epoch 9/10\n",
            "1250/1250 [==============================] - 9s 7ms/step - loss: 0.7021 - accuracy: 0.7584 - val_loss: 1.0725 - val_accuracy: 0.6448\n",
            "Epoch 10/10\n",
            "1250/1250 [==============================] - 9s 7ms/step - loss: 0.6665 - accuracy: 0.7677 - val_loss: 0.9854 - val_accuracy: 0.6777\n"
          ]
        }
      ]
    },
    {
      "cell_type": "code",
      "metadata": {
        "colab": {
          "base_uri": "https://localhost:8080/",
          "height": 295
        },
        "id": "Kwr_6oePVJFl",
        "outputId": "8ad4bb30-2355-4dc9-982f-714707e2e101"
      },
      "source": [
        "plt.plot(history.history['accuracy'])\n",
        "plt.plot(history.history['val_accuracy'])\n",
        "plt.title('model accuracy')\n",
        "plt.ylabel('accuracy')\n",
        "plt.xlabel('epoch')\n",
        "plt.legend(['train', 'val'], loc='upper left')\n",
        "plt.show()"
      ],
      "execution_count": null,
      "outputs": [
        {
          "output_type": "display_data",
          "data": {
            "image/png": "[encoded data removed]",
            "text/plain": [
              "<Figure size 432x288 with 1 Axes>"
            ]
          },
          "metadata": {
            "needs_background": "light"
          }
        }
      ]
    },
    {
      "cell_type": "code",
      "metadata": {
        "colab": {
          "base_uri": "https://localhost:8080/",
          "height": 295
        },
        "id": "knngbv2qVvph",
        "outputId": "d8a93ceb-6cab-4bda-f6cd-3c83644e80df"
      },
      "source": [
        "plt.plot(history.history['loss'])\n",
        "plt.plot(history.history['val_loss'])\n",
        "plt.title('model loss')\n",
        "plt.ylabel('loss')\n",
        "plt.xlabel('epoch')\n",
        "plt.legend(['train', 'val'], loc='upper left')\n",
        "plt.show()"
      ],
      "execution_count": null,
      "outputs": [
        {
          "output_type": "display_data",
          "data": {
            "image/png": "[encoded data removed]",
            "text/plain": [
              "<Figure size 432x288 with 1 Axes>"
            ]
          },
          "metadata": {
            "needs_background": "light"
          }
        }
      ]
    },
    {
      "cell_type": "code",
      "metadata": {
        "colab": {
          "base_uri": "https://localhost:8080/"
        },
        "id": "CiPNTz3eV1Bk",
        "outputId": "01ee4769-f570-498c-ea04-f3ee1bc3dced"
      },
      "source": [
        "results = cnn.evaluate(X_test,y_test)"
      ],
      "execution_count": null,
      "outputs": [
        {
          "output_type": "stream",
          "name": "stdout",
          "text": [
            "313/313 [==============================] - 1s 4ms/step - loss: 0.9977 - accuracy: 0.6819\n"
          ]
        }
      ]
    },
    {
      "cell_type": "code",
      "metadata": {
        "colab": {
          "base_uri": "https://localhost:8080/"
        },
        "id": "3Yo0kzqhV4sk",
        "outputId": "4dc28887-2308-48c6-ffb9-75678077f10d"
      },
      "source": [
        "print(\"test loss, test acc:\", results)"
      ],
      "execution_count": null,
      "outputs": [
        {
          "output_type": "stream",
          "name": "stdout",
          "text": [
            "test loss, test acc: [0.9977028369903564, 0.6819000244140625]\n"
          ]
        }
      ]
    },
    {
      "cell_type": "code",
      "metadata": {
        "colab": {
          "base_uri": "https://localhost:8080/"
        },
        "id": "206f44xxWKvi",
        "outputId": "974fe6d4-269b-4f4c-cd73-4680db2bf625"
      },
      "source": [
        "y_pred = cnn.predict(X_test)\n",
        "y_pred[:5]"
      ],
      "execution_count": null,
      "outputs": [
        {
          "output_type": "execute_result",
          "data": {
            "text/plain": [
              "array([[7.7502881e-03, 8.4535313e-06, 2.3781946e-03, 4.9123788e-01,\n",
              "        1.9527359e-03, 3.1145048e-01, 6.3948296e-03, 2.7403788e-04,\n",
              "        1.7766996e-01, 8.8313763e-04],\n",
              "       [6.1969166e-03, 7.0166111e-01, 5.9023014e-06, 5.2196672e-08,\n",
              "        7.1975762e-07, 3.4439525e-09, 1.2557543e-07, 3.1332270e-08,\n",
              "        2.9130167e-01, 8.3343073e-04],\n",
              "       [8.8639289e-02, 4.8651013e-01, 1.9791088e-04, 3.3653242e-04,\n",
              "        1.7448302e-04, 1.3660611e-05, 9.4806392e-06, 1.4614991e-04,\n",
              "        4.2008549e-01, 3.8869195e-03],\n",
              "       [7.1463400e-01, 5.1089197e-02, 1.2633234e-02, 3.4832297e-04,\n",
              "        1.7451253e-03, 1.7071950e-05, 1.6609773e-05, 1.7289729e-04,\n",
              "        2.1933098e-01, 1.2542795e-05],\n",
              "       [1.5094883e-05, 2.8023875e-04, 4.5503516e-02, 1.2419614e-02,\n",
              "        7.8897321e-01, 7.1088863e-03, 1.4526209e-01, 3.3008779e-04,\n",
              "        7.7293429e-05, 2.9931309e-05]], dtype=float32)"
            ]
          },
          "metadata": {},
          "execution_count": 22
        }
      ]
    },
    {
      "cell_type": "code",
      "metadata": {
        "colab": {
          "base_uri": "https://localhost:8080/"
        },
        "id": "DRzxHhT6WQdz",
        "outputId": "f94fe9e4-e83d-44c6-a2cf-88d12ca1fbb4"
      },
      "source": [
        "y_classes = [np.argmax(element) for element in y_pred]\n",
        "y_classes[:5]"
      ],
      "execution_count": null,
      "outputs": [
        {
          "output_type": "execute_result",
          "data": {
            "text/plain": [
              "[3, 1, 1, 0, 4]"
            ]
          },
          "metadata": {},
          "execution_count": 23
        }
      ]
    },
    {
      "cell_type": "code",
      "metadata": {
        "colab": {
          "base_uri": "https://localhost:8080/"
        },
        "id": "YBljy9NIWWqr",
        "outputId": "10df9ff4-c0a1-4fd0-de8c-bc9bdc3b8d91"
      },
      "source": [
        "y_test[:5]\n"
      ],
      "execution_count": null,
      "outputs": [
        {
          "output_type": "execute_result",
          "data": {
            "text/plain": [
              "array([3, 8, 8, 0, 6], dtype=uint8)"
            ]
          },
          "metadata": {},
          "execution_count": 24
        }
      ]
    },
    {
      "cell_type": "code",
      "metadata": {
        "colab": {
          "base_uri": "https://localhost:8080/",
          "height": 173
        },
        "id": "RhCKn8YyWYOq",
        "outputId": "086db181-d9e1-44ad-c36a-9553ce9eb324"
      },
      "source": [
        "plot_sample(X_test, y_test,30)\n"
      ],
      "execution_count": null,
      "outputs": [
        {
          "output_type": "display_data",
          "data": {
            "image/png": "[encoded data removed]",
            "text/plain": [
              "<Figure size 1080x144 with 1 Axes>"
            ]
          },
          "metadata": {
            "needs_background": "light"
          }
        }
      ]
    },
    {
      "cell_type": "code",
      "metadata": {
        "id": "s5l-TbowWZlN"
      },
      "source": [
        ""
      ],
      "execution_count": null,
      "outputs": []
    }
  ]
}