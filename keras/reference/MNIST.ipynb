{
  "cells": [
    {
      "cell_type": "markdown",
      "metadata": {
        "id": "kBX-rbwPa75s"
      },
      "source": [
        "# MNIST MLP & CNN"
      ]
    },
    {
      "cell_type": "markdown",
      "metadata": {
        "id": "oxmLMKr6a75z"
      },
      "source": [
        "[![Open In Colab](https://colab.research.google.com/assets/colab-badge.svg)](https://colab.research.google.com/github/googlecolab/colabtools/blob/master/notebooks/colab-github-demo.ipynb)"
      ]
    },
    {
      "cell_type": "code",
      "execution_count": 1,
      "metadata": {
        "colab": {
          "base_uri": "https://localhost:8080/"
        },
        "id": "f9vAiGqPa750",
        "outputId": "f02ddfb9-05bd-4c15-e2a4-4ed79be2242e"
      },
      "outputs": [
        {
          "name": "stdout",
          "output_type": "stream",
          "text": [
            "[name: \"/device:CPU:0\"\n",
            "device_type: \"CPU\"\n",
            "memory_limit: 268435456\n",
            "locality {\n",
            "}\n",
            "incarnation: 9131390147157717610\n",
            "xla_global_id: -1\n",
            "]\n",
            "2.9.1\n",
            "Num GPUs Available:  0\n"
          ]
        }
      ],
      "source": [
        "import tensorflow as tf\n",
        "from tensorflow import keras\n",
        "from tensorflow.python.client import device_lib\n",
        "\n",
        "print(device_lib.list_local_devices())\n",
        "print(tf.__version__)\n",
        "print(\"Num GPUs Available: \", len(tf.config.experimental.list_physical_devices('GPU')))"
      ]
    },
    {
      "cell_type": "markdown",
      "metadata": {
        "id": "61PTVqLua750"
      },
      "source": [
        "# Preprocessing\n",
        "- One-hot labels\n",
        "- Reshape and normalize data"
      ]
    },
    {
      "cell_type": "code",
      "execution_count": 20,
      "metadata": {
        "colab": {
          "base_uri": "https://localhost:8080/"
        },
        "id": "YeBTK2a2a751",
        "outputId": "9c26b5fc-0c02-4fdc-e447-9abe185b0186"
      },
      "outputs": [],
      "source": [
        "from keras.datasets import mnist\n",
        "from tensorflow.keras.utils import to_categorical\n",
        "\n",
        "# Load Data\n",
        "(X_train, y_train), (X_test, y_test) = mnist.load_data()"
      ]
    },
    {
      "cell_type": "code",
      "execution_count": 21,
      "metadata": {
        "colab": {
          "base_uri": "https://localhost:8080/",
          "height": 268
        },
        "id": "6thqQWYsa751",
        "outputId": "0b62ffd0-bd6b-4c0a-830a-03181af4625d"
      },
      "outputs": [
        {
          "data": {
            "image/png": "[encoded data removed]",
            "text/plain": [
              "<Figure size 432x288 with 9 Axes>"
            ]
          },
          "metadata": {
            "needs_background": "light"
          },
          "output_type": "display_data"
        }
      ],
      "source": [
        "from matplotlib import pyplot\n",
        "import numpy as np\n",
        "\n",
        "# create a grid of 3x3 images\n",
        "for i in range(0, 9):\n",
        "\tpyplot.subplot(330 + 1 + i)\n",
        "\tpyplot.imshow(X_train[i], cmap=pyplot.get_cmap('gray'))\n",
        "pyplot.show()"
      ]
    },
    {
      "cell_type": "code",
      "execution_count": 22,
      "metadata": {
        "id": "0TmSpjEGa751"
      },
      "outputs": [],
      "source": [
        "# compute the number of labels\n",
        "num_labels = len(np.unique(y_train))\n",
        "\n",
        "# convert to one-hot vector\n",
        "y_train = to_categorical(y_train)\n",
        "y_test = to_categorical(y_test)\n",
        "\n",
        "# image dimensions (assumed square)\n",
        "image_size = X_train.shape[1]\n",
        "input_size = image_size * image_size\n",
        "\n",
        "# resize and normalize\n",
        "X_train = np.reshape(X_train, [-1, input_size])\n",
        "X_train = X_train.astype('float32') / 255\n",
        "X_test = np.reshape(X_test, [-1, input_size])\n",
        "X_test = X_test.astype('float32') / 255"
      ]
    },
    {
      "cell_type": "code",
      "execution_count": 23,
      "metadata": {
        "colab": {
          "base_uri": "https://localhost:8080/"
        },
        "id": "4i09j1j6a752",
        "outputId": "4a2c5bc4-9b19-4c0f-f9de-67d50840db81"
      },
      "outputs": [
        {
          "data": {
            "text/plain": [
              "((60000, 784), (10000, 784), (60000, 10), (10000, 10))"
            ]
          },
          "execution_count": 23,
          "metadata": {},
          "output_type": "execute_result"
        }
      ],
      "source": [
        "X_train.shape, X_test.shape, y_train.shape, y_test.shape"
      ]
    },
    {
      "cell_type": "markdown",
      "metadata": {
        "id": "dxwly-Aua752"
      },
      "source": [
        "# MLP Model"
      ]
    },
    {
      "cell_type": "markdown",
      "metadata": {
        "id": "u1E33WeEa752"
      },
      "source": [
        "## Hyperparameters"
      ]
    },
    {
      "cell_type": "code",
      "execution_count": 24,
      "metadata": {
        "id": "qqpuMcs6a753"
      },
      "outputs": [],
      "source": [
        "batch_size = 128\n",
        "hidden_units = 256\n",
        "dropout = 0.45"
      ]
    },
    {
      "cell_type": "code",
      "execution_count": 29,
      "metadata": {
        "colab": {
          "base_uri": "https://localhost:8080/"
        },
        "id": "eMo1E_LVa753",
        "outputId": "e8320604-54ee-4d9f-e39a-5fa135b752d8"
      },
      "outputs": [
        {
          "name": "stdout",
          "output_type": "stream",
          "text": [
            "Model: \"MLP\"\n",
            "_________________________________________________________________\n",
            " Layer (type)                Output Shape              Param #   \n",
            "=================================================================\n",
            " dense_6 (Dense)             (None, 256)               200960    \n",
            "                                                                 \n",
            " dropout (Dropout)           (None, 256)               0         \n",
            "                                                                 \n",
            " dense_7 (Dense)             (None, 256)               65792     \n",
            "                                                                 \n",
            " dropout_1 (Dropout)         (None, 256)               0         \n",
            "                                                                 \n",
            " dense_8 (Dense)             (None, 10)                2570      \n",
            "                                                                 \n",
            " activation_2 (Activation)   (None, 10)                0         \n",
            "                                                                 \n",
            "=================================================================\n",
            "Total params: 269,322\n",
            "Trainable params: 269,322\n",
            "Non-trainable params: 0\n",
            "_________________________________________________________________\n"
          ]
        }
      ],
      "source": [
        "import numpy as np\n",
        "from tensorflow.keras.models import Sequential\n",
        "from tensorflow.keras.layers import Dense, Activation, Flatten, Dropout\n",
        "\n",
        "\n",
        "model = Sequential(name=\"MLP\")\n",
        "model.add(Dense(hidden_units, input_dim=input_size, activation = \"relu\"))\n",
        "model.add(Dropout(dropout))\n",
        "model.add(Dense(hidden_units, activation = \"relu\"))\n",
        "model.add(Dropout(dropout))\n",
        "model.add(Dense(num_labels))\n",
        "model.add(Activation('softmax'))\n",
        "model.summary()"
      ]
    },
    {
      "cell_type": "code",
      "execution_count": 30,
      "metadata": {
        "id": "w-v7-FEJa753"
      },
      "outputs": [],
      "source": [
        "model.compile(\n",
        "    loss='categorical_crossentropy',\n",
        "    optimizer='adam',\n",
        "    metrics=['accuracy']\n",
        ")"
      ]
    },
    {
      "cell_type": "code",
      "execution_count": 31,
      "metadata": {
        "colab": {
          "base_uri": "https://localhost:8080/"
        },
        "id": "6P1yX4t9a754",
        "outputId": "87812a65-360d-4e46-d36a-cc930de5c4a9"
      },
      "outputs": [
        {
          "name": "stdout",
          "output_type": "stream",
          "text": [
            "Epoch 1/20\n",
            "422/422 [==============================] - 2s 3ms/step - loss: 0.4592 - accuracy: 0.8580 - val_loss: 0.1243 - val_accuracy: 0.9645\n",
            "Epoch 2/20\n",
            "422/422 [==============================] - 1s 3ms/step - loss: 0.2067 - accuracy: 0.9380 - val_loss: 0.0934 - val_accuracy: 0.9738\n",
            "Epoch 3/20\n",
            "422/422 [==============================] - 1s 3ms/step - loss: 0.1613 - accuracy: 0.9522 - val_loss: 0.0815 - val_accuracy: 0.9750\n",
            "Epoch 4/20\n",
            "422/422 [==============================] - 1s 3ms/step - loss: 0.1356 - accuracy: 0.9594 - val_loss: 0.0706 - val_accuracy: 0.9788\n",
            "Epoch 5/20\n",
            "422/422 [==============================] - 1s 3ms/step - loss: 0.1186 - accuracy: 0.9636 - val_loss: 0.0728 - val_accuracy: 0.9783\n",
            "Epoch 6/20\n",
            "422/422 [==============================] - 1s 3ms/step - loss: 0.1071 - accuracy: 0.9669 - val_loss: 0.0732 - val_accuracy: 0.9780\n",
            "Epoch 7/20\n",
            "422/422 [==============================] - 1s 3ms/step - loss: 0.0976 - accuracy: 0.9705 - val_loss: 0.0613 - val_accuracy: 0.9813\n",
            "Epoch 8/20\n",
            "422/422 [==============================] - 1s 3ms/step - loss: 0.0898 - accuracy: 0.9714 - val_loss: 0.0650 - val_accuracy: 0.9795\n",
            "Epoch 9/20\n",
            "422/422 [==============================] - 1s 3ms/step - loss: 0.0888 - accuracy: 0.9732 - val_loss: 0.0581 - val_accuracy: 0.9828\n",
            "Epoch 10/20\n",
            "422/422 [==============================] - 1s 3ms/step - loss: 0.0830 - accuracy: 0.9741 - val_loss: 0.0629 - val_accuracy: 0.9825\n",
            "Epoch 11/20\n",
            "422/422 [==============================] - 1s 3ms/step - loss: 0.0746 - accuracy: 0.9769 - val_loss: 0.0672 - val_accuracy: 0.9812\n",
            "Epoch 12/20\n",
            "422/422 [==============================] - 1s 3ms/step - loss: 0.0685 - accuracy: 0.9781 - val_loss: 0.0629 - val_accuracy: 0.9812\n",
            "Epoch 13/20\n",
            "422/422 [==============================] - 1s 3ms/step - loss: 0.0710 - accuracy: 0.9773 - val_loss: 0.0611 - val_accuracy: 0.9817\n",
            "Epoch 14/20\n",
            "422/422 [==============================] - 1s 3ms/step - loss: 0.0702 - accuracy: 0.9770 - val_loss: 0.0629 - val_accuracy: 0.9822\n",
            "Epoch 15/20\n",
            "422/422 [==============================] - 1s 3ms/step - loss: 0.0631 - accuracy: 0.9799 - val_loss: 0.0572 - val_accuracy: 0.9848\n",
            "Epoch 16/20\n",
            "422/422 [==============================] - 1s 3ms/step - loss: 0.0596 - accuracy: 0.9805 - val_loss: 0.0620 - val_accuracy: 0.9820\n",
            "Epoch 17/20\n",
            "422/422 [==============================] - 1s 3ms/step - loss: 0.0621 - accuracy: 0.9802 - val_loss: 0.0630 - val_accuracy: 0.9817\n",
            "Epoch 18/20\n",
            "422/422 [==============================] - 1s 3ms/step - loss: 0.0563 - accuracy: 0.9816 - val_loss: 0.0618 - val_accuracy: 0.9808\n",
            "Epoch 19/20\n",
            "422/422 [==============================] - 1s 3ms/step - loss: 0.0558 - accuracy: 0.9821 - val_loss: 0.0587 - val_accuracy: 0.9848\n",
            "Epoch 20/20\n",
            "422/422 [==============================] - 1s 3ms/step - loss: 0.0555 - accuracy: 0.9817 - val_loss: 0.0620 - val_accuracy: 0.9840\n"
          ]
        }
      ],
      "source": [
        "history = model.fit(\n",
        "    x = X_train,\n",
        "    y = y_train,\n",
        "    validation_split = .1,\n",
        "    epochs = 20,\n",
        "    batch_size=batch_size\n",
        ")"
      ]
    },
    {
      "cell_type": "code",
      "execution_count": 32,
      "metadata": {
        "colab": {
          "base_uri": "https://localhost:8080/",
          "height": 367
        },
        "id": "AWx7ICZVa754",
        "outputId": "b83b086e-4e32-4ef0-a772-690522e280ea"
      },
      "outputs": [
        {
          "name": "stdout",
          "output_type": "stream",
          "text": [
            "dict_keys(['loss', 'accuracy', 'val_loss', 'val_accuracy'])\n"
          ]
        },
        {
          "data": {
            "image/png": "[encoded data removed]",
            "text/plain": [
              "<Figure size 720x360 with 2 Axes>"
            ]
          },
          "metadata": {
            "needs_background": "light"
          },
          "output_type": "display_data"
        }
      ],
      "source": [
        "import matplotlib.pyplot as plt\n",
        "\n",
        "def plot_history(history):\n",
        "\n",
        "    plt.figure(figsize=(10, 5))\n",
        "\n",
        "    # summarize history for mean_squared_error\n",
        "    plt.subplot(121)\n",
        "    plt.plot(history.history['accuracy'])\n",
        "    plt.plot(history.history['val_accuracy'])\n",
        "    plt.title('Model accuracy')\n",
        "    plt.ylabel('accuracy')\n",
        "    plt.xlabel('epoch')\n",
        "    plt.legend(['Train', 'Validation'], loc='upper left')\n",
        "\n",
        "    # summarize history for loss\n",
        "    plt.subplot(122)\n",
        "    plt.plot(history.history['loss'])\n",
        "    plt.plot(history.history['val_loss'])\n",
        "    plt.title('Model Loss')\n",
        "    plt.ylabel('Loss')\n",
        "    plt.xlabel('Epoch')\n",
        "    plt.legend(['Train', 'Validation'], loc='upper left')\n",
        "\n",
        "    plt.show()\n",
        "\n",
        "print(history.history.keys())\n",
        "plot_history(history)"
      ]
    },
    {
      "cell_type": "markdown",
      "metadata": {
        "id": "z5Yootkna755"
      },
      "source": [
        "## Model Evaluation"
      ]
    },
    {
      "cell_type": "code",
      "execution_count": 33,
      "metadata": {
        "colab": {
          "base_uri": "https://localhost:8080/"
        },
        "id": "FL_8xBAka755",
        "outputId": "5f751ea3-a503-4850-850d-6d25a11ac8e7"
      },
      "outputs": [
        {
          "name": "stdout",
          "output_type": "stream",
          "text": [
            "\n",
            "Test accuracy: 98.4%\n"
          ]
        }
      ],
      "source": [
        "_, acc = model.evaluate(\n",
        "    X_test,\n",
        "    y_test,\n",
        "    batch_size=batch_size,\n",
        "    verbose=0\n",
        ")\n",
        "print(\"\\nTest accuracy: %.1f%%\" % (100.0 * acc))"
      ]
    },
    {
      "cell_type": "markdown",
      "metadata": {
        "id": "33pm7OL0a755"
      },
      "source": [
        "## Save Model"
      ]
    },
    {
      "cell_type": "code",
      "execution_count": 34,
      "metadata": {
        "id": "mOxeiMwPa756"
      },
      "outputs": [],
      "source": [
        "model.save('MLP_MNIST.h5')"
      ]
    },
    {
      "cell_type": "markdown",
      "metadata": {
        "id": "pKLm2Tpga756"
      },
      "source": [
        "## Load Model"
      ]
    },
    {
      "cell_type": "code",
      "execution_count": 35,
      "metadata": {
        "colab": {
          "base_uri": "https://localhost:8080/"
        },
        "id": "du1ZSWQxa756",
        "outputId": "60144de8-a217-4da2-d9aa-3ceeb823d695"
      },
      "outputs": [
        {
          "name": "stdout",
          "output_type": "stream",
          "text": [
            "313/313 [==============================] - 0s 1ms/step - loss: 0.0644 - accuracy: 0.9835\n",
            "\n",
            "Test accuracy: 98.4%\n"
          ]
        }
      ],
      "source": [
        "reconstructed_model = tf.keras.models.load_model(\"MLP_MNIST.h5\")\n",
        "_, acc = reconstructed_model.evaluate(X_test, y_test)\n",
        "print(\"\\nTest accuracy: %.1f%%\" % (100.0 * acc))"
      ]
    },
    {
      "cell_type": "markdown",
      "metadata": {
        "id": "OWtn9gtTa756"
      },
      "source": [
        "# CNN Model"
      ]
    },
    {
      "cell_type": "code",
      "execution_count": 36,
      "metadata": {
        "id": "krQE5cNya757"
      },
      "outputs": [],
      "source": [
        "(X_train, y_train), (X_test, y_test) = mnist.load_data()\n",
        "num_labels = len(np.unique(y_train))\n",
        "y_train = to_categorical(y_train)\n",
        "y_test = to_categorical(y_test)\n",
        "\n",
        "# image dimensions (assumed square)\n",
        "image_size = X_train.shape[1]\n",
        "input_size = image_size * image_size\n",
        "img_channels = 1\n",
        "\n",
        "# resize and normalize\n",
        "X_train = np.reshape(X_train, [-1, image_size, image_size, img_channels])\n",
        "X_train = X_train.astype('float32') / 255\n",
        "X_test = np.reshape(X_test, [-1, image_size, image_size, img_channels])\n",
        "X_test = X_test.astype('float32') / 255\n"
      ]
    },
    {
      "cell_type": "code",
      "execution_count": 37,
      "metadata": {
        "colab": {
          "base_uri": "https://localhost:8080/"
        },
        "id": "_pbLdwvca757",
        "outputId": "5a07f9bf-9a53-4dce-e81a-8367000dc37f"
      },
      "outputs": [
        {
          "data": {
            "text/plain": [
              "((60000, 28, 28, 1), (10000, 28, 28, 1), (60000, 10), (10000, 10))"
            ]
          },
          "execution_count": 37,
          "metadata": {},
          "output_type": "execute_result"
        }
      ],
      "source": [
        "X_train.shape, X_test.shape, y_train.shape, y_test.shape"
      ]
    },
    {
      "cell_type": "markdown",
      "metadata": {
        "id": "xfaYDorla758"
      },
      "source": [
        "## Model"
      ]
    },
    {
      "cell_type": "code",
      "execution_count": 38,
      "metadata": {
        "colab": {
          "base_uri": "https://localhost:8080/"
        },
        "id": "luSV-nMna758",
        "outputId": "5a3e67e1-9857-4d53-d65e-4ef36f63c50d"
      },
      "outputs": [
        {
          "name": "stdout",
          "output_type": "stream",
          "text": [
            "Model: \"CNN\"\n",
            "_________________________________________________________________\n",
            " Layer (type)                Output Shape              Param #   \n",
            "=================================================================\n",
            " conv2d (Conv2D)             (None, 26, 26, 32)        320       \n",
            "                                                                 \n",
            " max_pooling2d (MaxPooling2D  (None, 13, 13, 32)       0         \n",
            " )                                                               \n",
            "                                                                 \n",
            " conv2d_1 (Conv2D)           (None, 11, 11, 64)        18496     \n",
            "                                                                 \n",
            " max_pooling2d_1 (MaxPooling  (None, 5, 5, 64)         0         \n",
            " 2D)                                                             \n",
            "                                                                 \n",
            " flatten (Flatten)           (None, 1600)              0         \n",
            "                                                                 \n",
            " dropout_2 (Dropout)         (None, 1600)              0         \n",
            "                                                                 \n",
            " dense_9 (Dense)             (None, 10)                16010     \n",
            "                                                                 \n",
            "=================================================================\n",
            "Total params: 34,826\n",
            "Trainable params: 34,826\n",
            "Non-trainable params: 0\n",
            "_________________________________________________________________\n"
          ]
        }
      ],
      "source": [
        "from keras.layers.convolutional import Conv2D, MaxPooling2D\n",
        "\n",
        "num_labels = 10\n",
        "input_size = 28 * 28\n",
        "\n",
        "model = Sequential(name = \"CNN\")\n",
        "model.add(Conv2D(32, kernel_size=3, input_shape=(28, 28, 1), activation = 'relu'))\n",
        "model.add(MaxPooling2D(pool_size=(2, 2)))\n",
        "model.add(Conv2D(64, kernel_size=3, activation = 'relu'))\n",
        "model.add(MaxPooling2D(pool_size=(2, 2)))\n",
        "model.add(Flatten())\n",
        "model.add(Dropout(0.5))\n",
        "model.add(Dense(num_labels, activation = \"softmax\"))\n",
        "model.summary()\n"
      ]
    },
    {
      "cell_type": "code",
      "execution_count": 39,
      "metadata": {
        "colab": {
          "base_uri": "https://localhost:8080/"
        },
        "id": "N7sNIs0oa759",
        "outputId": "604ec8d1-98b7-4e45-cc19-3a9cad0ac5a4"
      },
      "outputs": [
        {
          "name": "stdout",
          "output_type": "stream",
          "text": [
            "Epoch 1/10\n",
            "1688/1688 [==============================] - 13s 8ms/step - loss: 0.2253 - accuracy: 0.9294 - val_loss: 0.0608 - val_accuracy: 0.9830\n",
            "Epoch 2/10\n",
            "1688/1688 [==============================] - 13s 8ms/step - loss: 0.0815 - accuracy: 0.9753 - val_loss: 0.0451 - val_accuracy: 0.9877\n",
            "Epoch 3/10\n",
            "1688/1688 [==============================] - 13s 8ms/step - loss: 0.0661 - accuracy: 0.9793 - val_loss: 0.0450 - val_accuracy: 0.9865\n",
            "Epoch 4/10\n",
            "1688/1688 [==============================] - 13s 8ms/step - loss: 0.0565 - accuracy: 0.9822 - val_loss: 0.0402 - val_accuracy: 0.9880\n",
            "Epoch 5/10\n",
            "1688/1688 [==============================] - 13s 8ms/step - loss: 0.0491 - accuracy: 0.9843 - val_loss: 0.0324 - val_accuracy: 0.9910\n",
            "Epoch 6/10\n",
            "1688/1688 [==============================] - 13s 8ms/step - loss: 0.0445 - accuracy: 0.9862 - val_loss: 0.0299 - val_accuracy: 0.9920\n",
            "Epoch 7/10\n",
            "1688/1688 [==============================] - 13s 8ms/step - loss: 0.0414 - accuracy: 0.9865 - val_loss: 0.0295 - val_accuracy: 0.9913\n",
            "Epoch 8/10\n",
            "1688/1688 [==============================] - 13s 7ms/step - loss: 0.0376 - accuracy: 0.9873 - val_loss: 0.0294 - val_accuracy: 0.9910\n",
            "Epoch 9/10\n",
            "1688/1688 [==============================] - 13s 7ms/step - loss: 0.0364 - accuracy: 0.9884 - val_loss: 0.0298 - val_accuracy: 0.9918\n",
            "Epoch 10/10\n",
            "1688/1688 [==============================] - 13s 7ms/step - loss: 0.0337 - accuracy: 0.9891 - val_loss: 0.0319 - val_accuracy: 0.9918\n"
          ]
        }
      ],
      "source": [
        "model.compile(loss='categorical_crossentropy',\n",
        "              optimizer='adam',\n",
        "              metrics=['accuracy'])\n",
        "\n",
        "history = model.fit(\n",
        "    # train_generator,\n",
        "    x = X_train,\n",
        "    y = y_train,\n",
        "    validation_split = .1,\n",
        "    epochs = 10,\n",
        "    verbose = True\n",
        ")"
      ]
    },
    {
      "cell_type": "code",
      "execution_count": 54,
      "metadata": {
        "colab": {
          "base_uri": "https://localhost:8080/",
          "height": 350
        },
        "id": "nVC0fUL1bwwR",
        "outputId": "3c935b91-34b9-4644-95de-b7bd36115484"
      },
      "outputs": [
        {
          "data": {
            "image/png": "[encoded data removed]",
            "text/plain": [
              "<Figure size 720x360 with 2 Axes>"
            ]
          },
          "metadata": {
            "needs_background": "light"
          },
          "output_type": "display_data"
        }
      ],
      "source": [
        "plot_history(history)"
      ]
    },
    {
      "cell_type": "code",
      "execution_count": 55,
      "metadata": {
        "colab": {
          "base_uri": "https://localhost:8080/"
        },
        "id": "3koyel-Ga759",
        "outputId": "efb951c8-921c-4ea9-db49-2eaa7a02a0d1"
      },
      "outputs": [
        {
          "name": "stdout",
          "output_type": "stream",
          "text": [
            "\n",
            "Test accuracy: 99.2%\n"
          ]
        }
      ],
      "source": [
        "_, acc = model.evaluate(\n",
        "    X_test,\n",
        "    y_test,\n",
        "    batch_size=batch_size,\n",
        "    verbose=0\n",
        ")\n",
        "\n",
        "print(\"\\nTest accuracy: %.1f%%\" % (100.0 * acc))"
      ]
    },
    {
      "cell_type": "markdown",
      "metadata": {
        "id": "oO4EUxSpa757"
      },
      "source": [
        "# Data Augmentation"
      ]
    },
    {
      "cell_type": "code",
      "execution_count": 56,
      "metadata": {
        "colab": {
          "base_uri": "https://localhost:8080/",
          "height": 268
        },
        "id": "CLYEq2Z8a758",
        "outputId": "6e3080b0-f45e-4a4a-f497-56cb47d5a0e6"
      },
      "outputs": [
        {
          "data": {
            "image/png": "[encoded data removed]",
            "text/plain": [
              "<Figure size 432x288 with 9 Axes>"
            ]
          },
          "metadata": {
            "needs_background": "light"
          },
          "output_type": "display_data"
        }
      ],
      "source": [
        "from keras.preprocessing.image import ImageDataGenerator\n",
        "\n",
        "datagen = ImageDataGenerator(\n",
        "\tfeaturewise_center=True, \n",
        "\tfeaturewise_std_normalization=True,\n",
        "\trotation_range=10,\n",
        "\thorizontal_flip=False,\n",
        "\tvalidation_split = 0.1\n",
        "\t# vertical_flip=True\n",
        ")\n",
        "\n",
        "# fit parameters from data\n",
        "datagen.fit(X_train)\n",
        "\n",
        "# configure batch size and retrieve one batch of images\n",
        "for X_batch, y_batch in datagen.flow(X_train, y_train, batch_size=9):\n",
        "\t# create a grid of 3x3 images\n",
        "\tfor i in range(0, 9):\n",
        "\t\tpyplot.subplot(330 + 1 + i)\n",
        "\t\tpyplot.imshow(X_batch[i].reshape(28, 28), cmap=pyplot.get_cmap('gray'))\n",
        "\t# show the plot\n",
        "\tpyplot.show()\n",
        "\tbreak"
      ]
    },
    {
      "cell_type": "code",
      "execution_count": 61,
      "metadata": {
        "id": "TFUOkRe0a758"
      },
      "outputs": [],
      "source": [
        "datagen.fit(X_train)\n",
        "train_generator = datagen.flow(X_train, y_train, batch_size=128, subset='training')\n",
        "validation_generator = datagen.flow(X_train, y_train, batch_size=128, subset='validation')"
      ]
    },
    {
      "cell_type": "code",
      "execution_count": 62,
      "metadata": {
        "colab": {
          "base_uri": "https://localhost:8080/"
        },
        "id": "uCsdSUCsj_Ze",
        "outputId": "6773f5e3-306f-41c9-91d0-10a772b612a4"
      },
      "outputs": [
        {
          "name": "stdout",
          "output_type": "stream",
          "text": [
            "Model: \"CNN_DA\"\n",
            "_________________________________________________________________\n",
            " Layer (type)                Output Shape              Param #   \n",
            "=================================================================\n",
            " conv2d_11 (Conv2D)          (None, 26, 26, 32)        320       \n",
            "                                                                 \n",
            " max_pooling2d_9 (MaxPooling  (None, 13, 13, 32)       0         \n",
            " 2D)                                                             \n",
            "                                                                 \n",
            " conv2d_12 (Conv2D)          (None, 11, 11, 64)        18496     \n",
            "                                                                 \n",
            " max_pooling2d_10 (MaxPoolin  (None, 5, 5, 64)         0         \n",
            " g2D)                                                            \n",
            "                                                                 \n",
            " flatten_6 (Flatten)         (None, 1600)              0         \n",
            "                                                                 \n",
            " dropout_6 (Dropout)         (None, 1600)              0         \n",
            "                                                                 \n",
            " dense_12 (Dense)            (None, 10)                16010     \n",
            "                                                                 \n",
            "=================================================================\n",
            "Total params: 34,826\n",
            "Trainable params: 34,826\n",
            "Non-trainable params: 0\n",
            "_________________________________________________________________\n"
          ]
        }
      ],
      "source": [
        "model = Sequential(name = \"CNN_DA\")\n",
        "model.add(Conv2D(32, kernel_size=3, input_shape=(28, 28, 1), activation = 'relu'))\n",
        "model.add(MaxPooling2D(pool_size=(2, 2)))\n",
        "model.add(Conv2D(64, kernel_size=3, activation = 'relu'))\n",
        "model.add(MaxPooling2D(pool_size=(2, 2)))\n",
        "model.add(Flatten())\n",
        "model.add(Dropout(0.5))\n",
        "model.add(Dense(num_labels, activation = \"softmax\"))\n",
        "model.summary()"
      ]
    },
    {
      "cell_type": "code",
      "execution_count": 63,
      "metadata": {
        "colab": {
          "base_uri": "https://localhost:8080/"
        },
        "id": "wtW9ad1pkEN6",
        "outputId": "52e2be13-c161-428d-b36a-f21c8a9b3256"
      },
      "outputs": [
        {
          "name": "stdout",
          "output_type": "stream",
          "text": [
            "Epoch 1/10\n",
            "375/375 [==============================] - 12s 31ms/step - loss: 0.3598 - accuracy: 0.8887 - val_loss: 0.1048 - val_accuracy: 0.9709\n",
            "Epoch 2/10\n",
            "375/375 [==============================] - 11s 30ms/step - loss: 0.1143 - accuracy: 0.9646 - val_loss: 0.0745 - val_accuracy: 0.9789\n",
            "Epoch 3/10\n",
            "375/375 [==============================] - 12s 31ms/step - loss: 0.0882 - accuracy: 0.9728 - val_loss: 0.0611 - val_accuracy: 0.9822\n",
            "Epoch 4/10\n",
            "375/375 [==============================] - 13s 34ms/step - loss: 0.0757 - accuracy: 0.9773 - val_loss: 0.0546 - val_accuracy: 0.9849\n",
            "Epoch 5/10\n",
            "375/375 [==============================] - 12s 31ms/step - loss: 0.0674 - accuracy: 0.9792 - val_loss: 0.0501 - val_accuracy: 0.9847\n",
            "Epoch 6/10\n",
            "375/375 [==============================] - 12s 31ms/step - loss: 0.0592 - accuracy: 0.9815 - val_loss: 0.0464 - val_accuracy: 0.9868\n",
            "Epoch 7/10\n",
            "375/375 [==============================] - 11s 30ms/step - loss: 0.0561 - accuracy: 0.9824 - val_loss: 0.0461 - val_accuracy: 0.9876\n",
            "Epoch 8/10\n",
            "375/375 [==============================] - 12s 31ms/step - loss: 0.0523 - accuracy: 0.9838 - val_loss: 0.0478 - val_accuracy: 0.9865\n",
            "Epoch 9/10\n",
            "375/375 [==============================] - 12s 33ms/step - loss: 0.0506 - accuracy: 0.9837 - val_loss: 0.0447 - val_accuracy: 0.9872\n",
            "Epoch 10/10\n",
            "375/375 [==============================] - 12s 33ms/step - loss: 0.0473 - accuracy: 0.9849 - val_loss: 0.0445 - val_accuracy: 0.9877\n"
          ]
        }
      ],
      "source": [
        "model.compile(loss='categorical_crossentropy',\n",
        "              optimizer='adam',\n",
        "              metrics=['accuracy'])\n",
        "\n",
        "history = model.fit(\n",
        "    train_generator,\n",
        "    epochs = 10,\n",
        "    verbose = True,\n",
        "    validation_data = validation_generator\n",
        ")"
      ]
    },
    {
      "cell_type": "code",
      "execution_count": 64,
      "metadata": {
        "colab": {
          "base_uri": "https://localhost:8080/",
          "height": 350
        },
        "id": "JiDZPTyGlHkS",
        "outputId": "dc2eb6b5-aea2-46ef-99c6-bb89d0d79aaa"
      },
      "outputs": [
        {
          "data": {
            "image/png": "[encoded data removed]",
            "text/plain": [
              "<Figure size 720x360 with 2 Axes>"
            ]
          },
          "metadata": {
            "needs_background": "light"
          },
          "output_type": "display_data"
        }
      ],
      "source": [
        "plot_history(history)"
      ]
    },
    {
      "cell_type": "code",
      "execution_count": 65,
      "metadata": {
        "colab": {
          "base_uri": "https://localhost:8080/"
        },
        "id": "M-BdRQhglLEB",
        "outputId": "59b4d7aa-af15-4eb6-b482-127b8858f738"
      },
      "outputs": [
        {
          "name": "stdout",
          "output_type": "stream",
          "text": [
            "\n",
            "Test accuracy: 98.8%\n"
          ]
        }
      ],
      "source": [
        "_, acc = model.evaluate(\n",
        "    X_test,\n",
        "    y_test,\n",
        "    batch_size=batch_size,\n",
        "    verbose=0\n",
        ")\n",
        "\n",
        "print(\"\\nTest accuracy: %.1f%%\" % (100.0 * acc))"
      ]
    },
    {
      "cell_type": "markdown",
      "metadata": {
        "id": "YXypY_P1a759"
      },
      "source": [
        "# Serializing Model"
      ]
    },
    {
      "cell_type": "code",
      "execution_count": 66,
      "metadata": {
        "id": "sfd2t4-ga75-"
      },
      "outputs": [],
      "source": [
        "model.save('CNN_MNIST.h5')"
      ]
    },
    {
      "cell_type": "markdown",
      "metadata": {
        "id": "KqKQZYUWa75-"
      },
      "source": [
        "## Load Model"
      ]
    },
    {
      "cell_type": "code",
      "execution_count": 67,
      "metadata": {
        "id": "77KeXbI2a75-"
      },
      "outputs": [],
      "source": [
        "reconstructed_model = tf.keras.models.load_model(\"CNN_MNIST.h5\")"
      ]
    },
    {
      "cell_type": "code",
      "execution_count": 68,
      "metadata": {
        "colab": {
          "base_uri": "https://localhost:8080/"
        },
        "id": "NQEkVjeqa75-",
        "outputId": "cb804955-b95c-4f0b-e4e5-2e7df9a2ab9b"
      },
      "outputs": [
        {
          "name": "stdout",
          "output_type": "stream",
          "text": [
            "313/313 [==============================] - 1s 3ms/step - loss: 0.1616 - accuracy: 0.9876\n"
          ]
        },
        {
          "data": {
            "text/plain": [
              "[0.16159658133983612, 0.9876000285148621]"
            ]
          },
          "execution_count": 68,
          "metadata": {},
          "output_type": "execute_result"
        }
      ],
      "source": [
        "reconstructed_model.evaluate(X_test, y_test)"
      ]
    }
  ],
  "metadata": {
    "accelerator": "GPU",
    "colab": {
      "collapsed_sections": [],
      "name": "Dense_MNIST.ipynb",
      "provenance": []
    },
    "gpuClass": "standard",
    "kernelspec": {
      "display_name": "Python 3.8.12 ('PhD')",
      "language": "python",
      "name": "python3"
    },
    "language_info": {
      "codemirror_mode": {
        "name": "ipython",
        "version": 3
      },
      "file_extension": ".py",
      "mimetype": "text/x-python",
      "name": "python",
      "nbconvert_exporter": "python",
      "pygments_lexer": "ipython3",
      "version": "3.8.12"
    },
    "orig_nbformat": 4,
    "vscode": {
      "interpreter": {
        "hash": "e17d129d6f27db8b87f58b5fa141e866dbba91479774a0f83bbb21f59b590d58"
      }
    }
  },
  "nbformat": 4,
  "nbformat_minor": 0
}
